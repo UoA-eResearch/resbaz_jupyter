{
 "cells": [
  {
   "cell_type": "markdown",
   "metadata": {},
   "source": [
    "# Thanks to Andrew Gross for inspiration for this wonderful notebook"
   ]
  },
  {
   "cell_type": "markdown",
   "metadata": {},
   "source": [
    "## Import all modules and functions we need"
   ]
  },
  {
   "cell_type": "code",
   "execution_count": null,
   "metadata": {},
   "outputs": [],
   "source": [
    "import matplotlib.pyplot as plt\n",
    "from matplotlib import colors\n",
    "from numpy import arange\n",
    "from numpy.random import randint\n",
    "from numpy.random import random_sample"
   ]
  },
  {
   "cell_type": "markdown",
   "metadata": {},
   "source": [
    "## Now, import the code to plot a guy, and set up some <span style=\"color:red\">c<span><span style=\"color:blue\">o</span><span style=\"color:pink\">l</span><span style=\"color:green\">o</span><span style=\"color:purple\">r</span><span style=\"color:orange\">s</span>"
   ]
  },
  {
   "cell_type": "code",
   "execution_count": null,
   "metadata": {},
   "outputs": [],
   "source": [
    "from my_plotting import plot_guy\n",
    "colors = [color['color'] for color in list(plt.rcParams['axes.prop_cycle'])]"
   ]
  },
  {
   "cell_type": "markdown",
   "metadata": {},
   "source": [
    "## So let's plot a guy..."
   ]
  },
  {
   "cell_type": "code",
   "execution_count": null,
   "metadata": {},
   "outputs": [],
   "source": [
    "fig, ax = plt.subplots(figsize=(4,5))\n",
    "c = colors[randint(0,len(colors))]\n",
    "plot_args = dict(c=c, mec=\"b\", mfc=\"w\", lw=1, mew=3, ms=10)\n",
    "plot_guy(0,0,False,**plot_args)\n",
    "ax.set_frame_on(False)\n",
    "ax.set_xticks([])\n",
    "ax.set_yticks([])\n",
    "fig.tight_layout()"
   ]
  },
  {
   "cell_type": "markdown",
   "metadata": {},
   "source": [
    "## woohoo, and now a few happy people..."
   ]
  },
  {
   "cell_type": "code",
   "execution_count": null,
   "metadata": {},
   "outputs": [],
   "source": [
    "guys = [[x,y, colors[randint(0,len(colors))]] for y in 50-arange(0,50,7) for x in arange(0,50,5)]\n",
    "frown = lambda c: c == 'r'\n",
    "\n",
    "fig, ax = plt.subplots(figsize=(12,12))\n",
    "for x, y, c in guys:\n",
    "    x += random_sample()*2\n",
    "    y += random_sample()*2\n",
    "    plot_args = dict(c=c, mec=\"b\", mfc=\"w\", lw=1, mew=3, ms=10)\n",
    "    plot_guy(x, y, frown(c), **plot_args)\n",
    "    ax.set_frame_on(False)\n",
    "    ax.set_xticks([])\n",
    "    ax.set_yticks([])\n",
    "fig.tight_layout()"
   ]
  },
  {
   "cell_type": "markdown",
   "metadata": {},
   "source": [
    "## and let them hold their hands..."
   ]
  },
  {
   "cell_type": "code",
   "execution_count": null,
   "metadata": {},
   "outputs": [],
   "source": [
    "guys2 = [[x,y, random_sample()] for y in 50-arange(0,50,7) for x in arange(0,50,5)]\n",
    "frown = lambda c: c < .0\n",
    "cm = plt.cm.rainbow\n",
    "\n",
    "fig, ax = plt.subplots(figsize=(8,12))\n",
    "for x, y, c in guys2:\n",
    "    x *= .6\n",
    "    plot_args = dict(c=cm(c), mec=\"b\", mfc=\"w\", lw=1, mew=3, ms=10)\n",
    "    plot_guy(x, y, frown(c), **plot_args)\n",
    "    ax.set_frame_on(False)\n",
    "    ax.set_xticks([])\n",
    "    ax.set_yticks([])\n",
    "fig.tight_layout()"
   ]
  }
 ],
 "metadata": {
  "kernelspec": {
   "display_name": "Python 3",
   "language": "python",
   "name": "python3"
  },
  "language_info": {
   "codemirror_mode": {
    "name": "ipython",
    "version": 3
   },
   "file_extension": ".py",
   "mimetype": "text/x-python",
   "name": "python",
   "nbconvert_exporter": "python",
   "pygments_lexer": "ipython3",
   "version": "3.6.4"
  }
 },
 "nbformat": 4,
 "nbformat_minor": 2
}
